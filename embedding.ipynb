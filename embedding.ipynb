{
  "nbformat": 4,
  "nbformat_minor": 0,
  "metadata": {
    "colab": {
      "provenance": [],
      "authorship_tag": "ABX9TyNxDJB8PuOI1fMrhrOKhHlz",
      "include_colab_link": true
    },
    "kernelspec": {
      "name": "python3",
      "display_name": "Python 3"
    },
    "language_info": {
      "name": "python"
    }
  },
  "cells": [
    {
      "cell_type": "markdown",
      "metadata": {
        "id": "view-in-github",
        "colab_type": "text"
      },
      "source": [
        "<a href=\"https://colab.research.google.com/github/SaurabhCegian/NLP/blob/master/embedding.ipynb\" target=\"_parent\"><img src=\"https://colab.research.google.com/assets/colab-badge.svg\" alt=\"Open In Colab\"/></a>"
      ]
    },
    {
      "cell_type": "code",
      "execution_count": 1,
      "metadata": {
        "id": "C3QaCoTGxWxj"
      },
      "outputs": [],
      "source": [
        "from tensorflow.keras.preprocessing.text import one_hot"
      ]
    },
    {
      "cell_type": "code",
      "source": [
        "sent = ['the glass of milk',\n",
        "      'the glass of juice',\n",
        "      'the cup of tea',\n",
        "      'I am a good boy',\n",
        "      'I am a good developer',\n",
        "      'understand the meaning of words',\n",
        "      'your videos are good']\n",
        "sent"
      ],
      "metadata": {
        "id": "KxqcBmUrxv8q",
        "outputId": "5eb6a2ed-ac69-4f8b-9ee0-b190be7df865",
        "colab": {
          "base_uri": "https://localhost:8080/"
        }
      },
      "execution_count": 2,
      "outputs": [
        {
          "output_type": "execute_result",
          "data": {
            "text/plain": [
              "['the glass of milk',\n",
              " 'the glass of juice',\n",
              " 'the cup of tea',\n",
              " 'I am a good boy',\n",
              " 'I am a good developer',\n",
              " 'understand the meaning of words',\n",
              " 'your videos are good']"
            ]
          },
          "metadata": {},
          "execution_count": 2
        }
      ]
    },
    {
      "cell_type": "code",
      "source": [
        "voc_size = 10000"
      ],
      "metadata": {
        "id": "KZNaWSsYx-8c"
      },
      "execution_count": 8,
      "outputs": []
    },
    {
      "cell_type": "code",
      "source": [
        "one_hot_repr = [one_hot(words,voc_size) for words in sent]\n",
        "one_hot_repr"
      ],
      "metadata": {
        "id": "i9nuwnkdye94",
        "outputId": "f44e2af1-d028-4d7d-b922-42d8439530fc",
        "colab": {
          "base_uri": "https://localhost:8080/"
        }
      },
      "execution_count": 9,
      "outputs": [
        {
          "output_type": "execute_result",
          "data": {
            "text/plain": [
              "[[7621, 929, 525, 9553],\n",
              " [7621, 929, 525, 5657],\n",
              " [7621, 7863, 525, 5955],\n",
              " [8744, 3326, 1618, 3210, 8256],\n",
              " [8744, 3326, 1618, 3210, 5703],\n",
              " [492, 7621, 614, 525, 4281],\n",
              " [2260, 686, 5351, 3210]]"
            ]
          },
          "metadata": {},
          "execution_count": 9
        }
      ]
    },
    {
      "cell_type": "code",
      "source": [
        "from tensorflow.keras.layers import Embedding\n",
        "from tensorflow.keras.preprocessing.sequence import pad_sequences\n",
        "from tensorflow.keras.models import Sequential"
      ],
      "metadata": {
        "id": "69TN0tHeyxDI"
      },
      "execution_count": 10,
      "outputs": []
    },
    {
      "cell_type": "code",
      "source": [
        "import numpy as np"
      ],
      "metadata": {
        "id": "WEs5BdMGz4pf"
      },
      "execution_count": 11,
      "outputs": []
    },
    {
      "cell_type": "code",
      "source": [
        "sent_length = 8\n",
        "embedded_docs = pad_sequences(one_hot_repr,padding='pre',maxlen=sent_length)\n",
        "embedded_docs"
      ],
      "metadata": {
        "id": "h1fk4IVjz7UJ",
        "outputId": "1a28e081-eb1e-44c5-cc16-0de0fb5a30a4",
        "colab": {
          "base_uri": "https://localhost:8080/"
        }
      },
      "execution_count": 14,
      "outputs": [
        {
          "output_type": "execute_result",
          "data": {
            "text/plain": [
              "array([[   0,    0,    0,    0, 7621,  929,  525, 9553],\n",
              "       [   0,    0,    0,    0, 7621,  929,  525, 5657],\n",
              "       [   0,    0,    0,    0, 7621, 7863,  525, 5955],\n",
              "       [   0,    0,    0, 8744, 3326, 1618, 3210, 8256],\n",
              "       [   0,    0,    0, 8744, 3326, 1618, 3210, 5703],\n",
              "       [   0,    0,    0,  492, 7621,  614,  525, 4281],\n",
              "       [   0,    0,    0,    0, 2260,  686, 5351, 3210]], dtype=int32)"
            ]
          },
          "metadata": {},
          "execution_count": 14
        }
      ]
    },
    {
      "cell_type": "code",
      "source": [
        "dim = 10"
      ],
      "metadata": {
        "id": "nwM3K0K80BXk"
      },
      "execution_count": 15,
      "outputs": []
    },
    {
      "cell_type": "code",
      "source": [
        "model = Sequential()\n",
        "model.add(Embedding(voc_size,dim,input_length=sent_length))"
      ],
      "metadata": {
        "id": "0jOOjbk11s3b"
      },
      "execution_count": 16,
      "outputs": []
    },
    {
      "cell_type": "code",
      "source": [
        "model.compile('adam','mse')"
      ],
      "metadata": {
        "id": "ruQ6f4M31wNk"
      },
      "execution_count": 17,
      "outputs": []
    },
    {
      "cell_type": "code",
      "source": [
        "model.summary()"
      ],
      "metadata": {
        "id": "LTSzw6231zGe",
        "outputId": "9c0cb869-165c-425b-af8e-52450781f8d7",
        "colab": {
          "base_uri": "https://localhost:8080/"
        }
      },
      "execution_count": 18,
      "outputs": [
        {
          "output_type": "stream",
          "name": "stdout",
          "text": [
            "Model: \"sequential\"\n",
            "_________________________________________________________________\n",
            " Layer (type)                Output Shape              Param #   \n",
            "=================================================================\n",
            " embedding (Embedding)       (None, 8, 10)             100000    \n",
            "                                                                 \n",
            "=================================================================\n",
            "Total params: 100000 (390.62 KB)\n",
            "Trainable params: 100000 (390.62 KB)\n",
            "Non-trainable params: 0 (0.00 Byte)\n",
            "_________________________________________________________________\n"
          ]
        }
      ]
    },
    {
      "cell_type": "code",
      "source": [
        "embedded_docs[0]"
      ],
      "metadata": {
        "id": "-B096VM212X9",
        "outputId": "75573e01-e63b-420d-fd06-0a83e9fd6b7f",
        "colab": {
          "base_uri": "https://localhost:8080/"
        }
      },
      "execution_count": 19,
      "outputs": [
        {
          "output_type": "execute_result",
          "data": {
            "text/plain": [
              "array([   0,    0,    0,    0, 7621,  929,  525, 9553], dtype=int32)"
            ]
          },
          "metadata": {},
          "execution_count": 19
        }
      ]
    },
    {
      "cell_type": "code",
      "source": [
        "model.predict(embedded_docs[0])"
      ],
      "metadata": {
        "id": "NTLS5jMp2F6H",
        "outputId": "f5fd97b0-1a48-4387-ae20-374f76ad65d4",
        "colab": {
          "base_uri": "https://localhost:8080/"
        }
      },
      "execution_count": 21,
      "outputs": [
        {
          "output_type": "stream",
          "name": "stdout",
          "text": [
            "1/1 [==============================] - 0s 43ms/step\n"
          ]
        },
        {
          "output_type": "execute_result",
          "data": {
            "text/plain": [
              "array([[-0.00536492,  0.02104265, -0.0308736 , -0.00158464, -0.04828364,\n",
              "         0.00700182, -0.02247139,  0.01763218, -0.01784711,  0.04766491],\n",
              "       [-0.00536492,  0.02104265, -0.0308736 , -0.00158464, -0.04828364,\n",
              "         0.00700182, -0.02247139,  0.01763218, -0.01784711,  0.04766491],\n",
              "       [-0.00536492,  0.02104265, -0.0308736 , -0.00158464, -0.04828364,\n",
              "         0.00700182, -0.02247139,  0.01763218, -0.01784711,  0.04766491],\n",
              "       [-0.00536492,  0.02104265, -0.0308736 , -0.00158464, -0.04828364,\n",
              "         0.00700182, -0.02247139,  0.01763218, -0.01784711,  0.04766491],\n",
              "       [ 0.04017636, -0.02204807,  0.03734433, -0.02534792,  0.0250105 ,\n",
              "         0.01678476,  0.0497568 ,  0.03421047,  0.04287494,  0.00072113],\n",
              "       [-0.00521626, -0.01539574, -0.04818019,  0.00064216, -0.01623132,\n",
              "        -0.02359835, -0.02576653,  0.00151126, -0.00391352, -0.04351548],\n",
              "       [ 0.00249674, -0.02760224,  0.04898742, -0.02569279, -0.02444929,\n",
              "        -0.04919855,  0.01181687, -0.04569465, -0.005783  ,  0.01041876],\n",
              "       [ 0.04047933, -0.01286045,  0.04898311, -0.03685319, -0.00524055,\n",
              "        -0.04721999,  0.01641022, -0.01617085, -0.04324467,  0.04924351]],\n",
              "      dtype=float32)"
            ]
          },
          "metadata": {},
          "execution_count": 21
        }
      ]
    },
    {
      "cell_type": "code",
      "source": [],
      "metadata": {
        "id": "YiHRTjsl2I5w"
      },
      "execution_count": null,
      "outputs": []
    }
  ]
}