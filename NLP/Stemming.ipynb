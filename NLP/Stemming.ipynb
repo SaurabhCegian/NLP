{
  "nbformat": 4,
  "nbformat_minor": 0,
  "metadata": {
    "colab": {
      "name": "Stemming.ipynb",
      "provenance": []
    },
    "kernelspec": {
      "name": "python3",
      "display_name": "Python 3"
    },
    "language_info": {
      "name": "python"
    }
  },
  "cells": [
    {
      "cell_type": "code",
      "metadata": {
        "id": "DLsKyBiU8fP4"
      },
      "source": [
        "import nltk"
      ],
      "execution_count": 1,
      "outputs": []
    },
    {
      "cell_type": "code",
      "metadata": {
        "id": "2Q2IGCVb8mu_"
      },
      "source": [
        "from nltk.stem.porter import PorterStemmer"
      ],
      "execution_count": 2,
      "outputs": []
    },
    {
      "cell_type": "code",
      "metadata": {
        "id": "FtPv4FJ98siC"
      },
      "source": [
        "p_stemmer = PorterStemmer()"
      ],
      "execution_count": 3,
      "outputs": []
    },
    {
      "cell_type": "code",
      "metadata": {
        "id": "trS0bmB-8xL1"
      },
      "source": [
        "words = ['run', 'running', 'ran', 'Univershal', 'University', 'Universe', 'alumnus', 'alumni', 'alumnae']"
      ],
      "execution_count": 7,
      "outputs": []
    },
    {
      "cell_type": "code",
      "metadata": {
        "colab": {
          "base_uri": "https://localhost:8080/"
        },
        "id": "SPwbbmyd84q_",
        "outputId": "e780f9bc-9d44-411c-9596-49c0b529bb60"
      },
      "source": [
        "for word in words:\n",
        "  print(word, '---------->', p_stemmer.stem(word))"
      ],
      "execution_count": 8,
      "outputs": [
        {
          "output_type": "stream",
          "text": [
            "run ----------> run\n",
            "running ----------> run\n",
            "ran ----------> ran\n",
            "Univershal ----------> universh\n",
            "University ----------> univers\n",
            "Universe ----------> univers\n",
            "alumnus ----------> alumnu\n",
            "alumni ----------> alumni\n",
            "alumnae ----------> alumna\n"
          ],
          "name": "stdout"
        }
      ]
    },
    {
      "cell_type": "code",
      "metadata": {
        "id": "8WI7-s3C9B8F"
      },
      "source": [
        "from nltk.stem.snowball import SnowballStemmer"
      ],
      "execution_count": 9,
      "outputs": []
    },
    {
      "cell_type": "code",
      "metadata": {
        "id": "0jTwYRWZ-A0m"
      },
      "source": [
        "s_stemmer = SnowballStemmer(language='english')"
      ],
      "execution_count": 11,
      "outputs": []
    },
    {
      "cell_type": "code",
      "metadata": {
        "colab": {
          "base_uri": "https://localhost:8080/"
        },
        "id": "AyzGy87j-Gzb",
        "outputId": "da5026f1-3fbb-4fc2-d811-09a96c34cabe"
      },
      "source": [
        "for word in words:\n",
        "  print(word, '---------->', s_stemmer.stem(word))"
      ],
      "execution_count": 12,
      "outputs": [
        {
          "output_type": "stream",
          "text": [
            "run ----------> run\n",
            "running ----------> run\n",
            "ran ----------> ran\n",
            "Univershal ----------> universh\n",
            "University ----------> univers\n",
            "Universe ----------> univers\n",
            "alumnus ----------> alumnus\n",
            "alumni ----------> alumni\n",
            "alumnae ----------> alumna\n"
          ],
          "name": "stdout"
        }
      ]
    },
    {
      "cell_type": "code",
      "metadata": {
        "id": "kZ0nmFi2-X1j"
      },
      "source": [
        ""
      ],
      "execution_count": null,
      "outputs": []
    }
  ]
}