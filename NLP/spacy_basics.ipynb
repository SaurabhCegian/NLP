{
  "nbformat": 4,
  "nbformat_minor": 0,
  "metadata": {
    "colab": {
      "name": "spacy basics.ipynb",
      "provenance": []
    },
    "kernelspec": {
      "name": "python3",
      "display_name": "Python 3"
    },
    "language_info": {
      "name": "python"
    },
    "accelerator": "GPU"
  },
  "cells": [
    {
      "cell_type": "code",
      "metadata": {
        "id": "bGge_TcL5I_J"
      },
      "source": [
        "import spacy"
      ],
      "execution_count": 1,
      "outputs": []
    },
    {
      "cell_type": "code",
      "metadata": {
        "id": "9o569Zxu5JRS"
      },
      "source": [
        "nlp = spacy.load('en_core_web_sm')"
      ],
      "execution_count": 2,
      "outputs": []
    },
    {
      "cell_type": "code",
      "metadata": {
        "id": "93j7RTD55JUE"
      },
      "source": [
        "doc = nlp('Saurabh is working as a Senior Data Scientist at Accolite Digital in Bengaluru, India')"
      ],
      "execution_count": 3,
      "outputs": []
    },
    {
      "cell_type": "code",
      "metadata": {
        "colab": {
          "base_uri": "https://localhost:8080/"
        },
        "id": "6Z1Rb-UQ5JXa",
        "outputId": "a0b4faca-83bd-4491-b37c-3714e8f4203b"
      },
      "source": [
        "for token in doc:\n",
        "  print(token, token.pos, token.pos_, token.dep_)"
      ],
      "execution_count": 4,
      "outputs": [
        {
          "output_type": "stream",
          "text": [
            "Saurabh 96 PROPN nsubj\n",
            "is 87 AUX aux\n",
            "working 100 VERB ROOT\n",
            "as 98 SCONJ prep\n",
            "a 90 DET det\n",
            "Senior 96 PROPN amod\n",
            "Data 96 PROPN compound\n",
            "Scientist 96 PROPN pobj\n",
            "at 85 ADP prep\n",
            "Accolite 96 PROPN compound\n",
            "Digital 96 PROPN pobj\n",
            "in 85 ADP prep\n",
            "Bengaluru 96 PROPN pobj\n",
            ", 97 PUNCT punct\n",
            "India 96 PROPN npadvmod\n"
          ],
          "name": "stdout"
        }
      ]
    },
    {
      "cell_type": "code",
      "metadata": {
        "colab": {
          "base_uri": "https://localhost:8080/"
        },
        "id": "Qn1y5Mhq51ss",
        "outputId": "049d3b6a-bd21-4063-cdd3-093c4354583c"
      },
      "source": [
        "nlp.pipeline"
      ],
      "execution_count": 5,
      "outputs": [
        {
          "output_type": "execute_result",
          "data": {
            "text/plain": [
              "[('tagger', <spacy.pipeline.pipes.Tagger at 0x7fb267ab7bd0>),\n",
              " ('parser', <spacy.pipeline.pipes.DependencyParser at 0x7fb267959050>),\n",
              " ('ner', <spacy.pipeline.pipes.EntityRecognizer at 0x7fb2679590c0>)]"
            ]
          },
          "metadata": {
            "tags": []
          },
          "execution_count": 5
        }
      ]
    },
    {
      "cell_type": "code",
      "metadata": {
        "colab": {
          "base_uri": "https://localhost:8080/"
        },
        "id": "EVfY5q296zvm",
        "outputId": "4db4c64f-f9e9-45e6-9d16-27453c2835ab"
      },
      "source": [
        "nlp.pipe_names"
      ],
      "execution_count": 6,
      "outputs": [
        {
          "output_type": "execute_result",
          "data": {
            "text/plain": [
              "['tagger', 'parser', 'ner']"
            ]
          },
          "metadata": {
            "tags": []
          },
          "execution_count": 6
        }
      ]
    },
    {
      "cell_type": "code",
      "metadata": {
        "colab": {
          "base_uri": "https://localhost:8080/"
        },
        "id": "D5jJXoXq63bU",
        "outputId": "0e325fdb-dee6-454a-ecbf-40af61d9b74e"
      },
      "source": [
        "for sentence in doc.sents:\n",
        "  print(sentence)"
      ],
      "execution_count": 7,
      "outputs": [
        {
          "output_type": "stream",
          "text": [
            "Saurabh is working as a Senior Data Scientist at Accolite Digital in Bengaluru, India\n"
          ],
          "name": "stdout"
        }
      ]
    },
    {
      "cell_type": "code",
      "metadata": {
        "id": "Ec2s54-t7Qtu"
      },
      "source": [
        ""
      ],
      "execution_count": 7,
      "outputs": []
    }
  ]
}